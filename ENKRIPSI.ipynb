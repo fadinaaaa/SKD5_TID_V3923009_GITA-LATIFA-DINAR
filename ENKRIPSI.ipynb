{
 "cells": [
  {
   "cell_type": "code",
   "execution_count": 1,
   "id": "05d85b66-a40c-423b-8a3a-48f60a7b76f7",
   "metadata": {},
   "outputs": [
    {
     "name": "stdin",
     "output_type": "stream",
     "text": [
      "Masukkan kunci:  NGAWI\n",
      "Teks biasa:  GITALATIFADINAR\n"
     ]
    },
    {
     "name": "stdout",
     "output_type": "stream",
     "text": [
      "Teks Sandi:  AN RI RD ZF DI FA GW XA "
     ]
    }
   ],
   "source": [
    "\n",
    "# Menginisialisasi variabel a dan b untuk digunakan dalam rekursi dalam pengisian karakter lainnya\n",
    "a = b = 0\n",
    "\n",
    " \n",
    "kunci = input(\"Masukkan kunci: \") # Meminta input pengguna Key (untuk membuat matriks karakter 5x5) yang sisimpan di var kunci\n",
    "kunci = kunci.replace(\" \", \"\") # menghapus semua spasi\n",
    "kunci = kunci.upper()  # mengubah semua karakter dalam kunci menjadi huruf kapital\n",
    "teks_biasa = input(\"Teks biasa: \")# Meminta input pengguna Pliantext (Pesan yang akan dienkripsi)\n",
    "teks_biasa = teks_biasa.replace(\" \", \"\") # menghapus semua spasi\n",
    "teks_biasa = teks_biasa.upper() # mengubah semua karakter dalam kunci menjadi huruf kapital\n",
    "\n",
    "# Mendefinisikan function  matriks yang membuat nested list secara rekursif\n",
    "def matriks(x, y, awal): #  deklarasi function dengan tiga paramete\n",
    "    return [[awal for i in range(x)] for j in range(y)] # mengembalikan nilai yang menghasilkan matriks baru\n",
    "\n",
    "\n",
    "\n",
    "kunci_ke_matriks = list() # nisialisasi list kosong yang akan digunakan untuk menyimpan karakter-karakter dari kunci.\n",
    "for c in kunci: # oop for yang akan mengiterasi melalui setiap karakter dalam string kunci yang diinputkan oleh pengguna\n",
    "    if c not in kunci_ke_matriks: # kondisi yang memeriksa apakah karakter c belum ada dalam list kunci_ke_matriks\n",
    "        if c == 'J': # Jika karakter c sama dengan 'J', maka 'J' akan diganti dengan 'I' dan karakter 'I' akan dimasukkan ke dalam list kunci_ke_matriks\n",
    "            kunci_ke_matriks.append('I')\n",
    "        else: # Jika karakter c bukan 'J', maka karakter c tersebut akan dimasukkan ke dalam list kunci_ke_matriks\n",
    "            kunci_ke_matriks.append(c)\n",
    "\n",
    "\n",
    "for i in range(65, 91): # loop for yang mengiterasi melalui angka Unicode (nilai ASCII) dari 65 (A) hingga 90 (Z), yang sesuai dengan huruf-huruf besar dalam alfabet\n",
    "    if chr(i) not in kunci_ke_matriks: #kondisi yang memeriksa apakah karakter yang sesuai dengan nilai Unicode saat ini (diubah menjadi karakter menggunakan chr(i)) belum ada dalam list kunci_ke_matriks\n",
    "        if i == 73 and chr(74) not in kunci_ke_matriks: # ondisi khusus yang memeriksa apakah nilai Unicode saat ini adalah 73 (I) dan jika karakter 'J' (Unicode 74) belum ada dalam kunci_ke_matriks\n",
    "            kunci_ke_matriks.append(\"I\") # ditambahkan ke dalam list kunci_ke_matriks\n",
    "            a = 1 # ariabel a akan diatur menjadi 1.\n",
    "        elif a == 0 and i == 73 or i == 74: # ondisi lain yang memeriksa apakah nilai Unicode saat ini adalah 73 (I) atau 74 (J), dan jika nilai a adalah 0\n",
    "            pass # kondisi ini akan dilewati \n",
    "        else: # jika karakter yang sesuai dengan nilai Unicode saat ini tidak adalah 'I' atau 'J' dan belum ada dalam kunci_ke_matriks\n",
    "            kunci_ke_matriks.append(chr(i)) #  karakter tersebut akan ditambahkan ke dalam list kunci_ke_matriks\n",
    "\n",
    "# mendefinisikan matriks sandi sebagai matriks 5x5 dengan awalan 0\n",
    "matriks_sandi = matriks(5, 5, 0)\n",
    "for i in range(0, 5): #  loop luar yang mengendalikan baris matrix\n",
    "    for j in range(0, 5):  #  loop dalamyang mengendalikan kolom matrix\n",
    "        matriks_sandi[i][j] = kunci_ke_matriks[b]  # kunci_ke_matriks digabungkan ke awal matriks sandi\n",
    "        b += 1\n",
    "\n",
    "# fungsi indexlocator adalah fungsi yang mencari indeks suatu karakter tertentu\n",
    "def indexlocator(x): #deklarasi fungsi indexlocator dengan satu parameter\n",
    "    lst = list() #nisialisasi list kosong \n",
    "    if x == 'J': #ondisi yang memeriksa apakah karakter x adalah 'J'. Jika iya, maka kondisi ini mencoba menggantinya dengan 'I'.\n",
    "        x == 'I'\n",
    "    for i, j in enumerate(matriks_sandi): #  loop for luar yang akan mengiterasi melalui setiap baris j alam matriks sandi,\n",
    "        for k, l in enumerate(j): # loop dalam yang akan mengiterasi melalui setiap elemen l dalam baris j matriks sandi, \n",
    "            if x == l: #kondisi yang memeriksa apakah karakter x sama dengan karakter l\n",
    "                lst.append(i) #ditambahkan ke dalam list lst.\n",
    "                lst.append(k)\n",
    "                return lst #mengembalikan list lst\n",
    "\n",
    "\n",
    "def enkripsi(teks): # deklarasi function enkripsi dg 1 parameter\n",
    "    i = 0 #  Inisialisasi dengan 0.\n",
    "    for s in range(0, len(teks) + 1, 2): # op yang akan mengiterasi melalui teks dengan langkah 2 karakte\n",
    "        if s < len(teks) - 1: # kondisi yang memeriksa apakah s kurang dari panjang teks dikurangi 1. \n",
    "            if teks[s] == teks[s + 1]: # kondisi yang memeriksa apakah karakter pada posisi s sama dengan karakter pada posisi s + 1. \n",
    "                teks = teks[:s + 1] + 'X' + teks[s + 1:] #  Jika ada dua karakter berturut-turut yang sama, maka kode ini akan menambahkan karakter 'X' di antara mereka untuk memisahkan mereka\n",
    "    if len(teks) % 2 != 0: #  kondisi yang memeriksa apakah panjang teks setelah pemrosesan sebelumnya adalah ganjil\n",
    "        teks = teks[:] + 'X' # menambahkan karakter 'X' d\n",
    "    print(\"Teks Sandi: \", end=' ') # mencetak teks awalan sebelum mencetak teks terenkripsi.\n",
    "    while i < len(teks): # oop while yang akan mengiterasi melalui teks untuk mengenkripsi karakter-karakternya.\n",
    "        lst = list() # inisialisasi list lst \n",
    "        lst = indexlocator(teks[i]) # menemukan indeks karakter pertama dalam pasangan yang akan dienkripsi.\n",
    "        lon = list() # inisialisasi list lon\n",
    "        lon = indexlocator(teks[i + 1]) # menemukan indeks karakter kedua dalam pasangan yang akan dienkripsi.\n",
    "        if lst[1] == lon[1]: # ondisi yang memeriksa apakah kedua karakter dalam pasangan (lst dan lon) berada di kolom yang sama dalam matriks sandi.\n",
    "            print(f\"{matriks_sandi[(lst[0] + 1) % 5][lst[1]]}{matriks_sandi[(lon[0] + 1) % 5][lon[1]]}\", end=' ') # Jika kondisi ini terpenuhi, maka karakter pertama akan digantikan dengan karakter di sebelah bawahnya dalam matriks sandi, dan karakter kedua akan digantikan dengan karakter di sebelah bawahnya\n",
    "        elif lst[0] == lon[0]: #kondisi alternatif yang memeriksa apakah kedua karakter dalam pasangan (lst dan lon) berada dalam baris yang sama dalam matriks sandi.\n",
    "            print(f\"{matriks_sandi[lst[0]][(lst[1] + 1) % 5]}{matriks_sandi[lon[0]][(lon[1] + 1) % 5]}\", end=' ') # arakter pertama akan digantikan dengan karakter di sebelah kanannya dalam matriks sandi, dan karakter kedua akan digantikan dengan karakter di sebelah kanannya dalam matriks sandi juga.\n",
    "        else: # kondisi yang dijalankan jika kedua karakter dalam pasangan (lst dan lon) tidak berada dalam baris atau kolom yang sama dalam matriks sandi.\n",
    "            print(f\"{matriks_sandi[lst[0]][lon[1]]}{matriks_sandi[lon[0]][lst[1]]}\", end=' ') # karakter pertama akan digantikan dengan karakter di baris yang sama dengan karakter pertama dan kolom yang sama dengan karakter kedua dalam matriks sandi, dan karakter kedua akan digantikan dengan karakter di baris yang sama dengan karakter kedua dan kolom yang sama dengan karakter pertama dalam matriks sandi.\n",
    "        i += 2 # : Variabel i ditingkatkan sebesar 2\n",
    "\n",
    "enkripsi(teks_biasa) # jalankan function enkripsi"
   ]
  },
  {
   "cell_type": "code",
   "execution_count": null,
   "id": "0fbaafff-620a-4c79-9bc6-599e23e31527",
   "metadata": {},
   "outputs": [],
   "source": []
  },
  {
   "cell_type": "code",
   "execution_count": null,
   "id": "0dc1ff68-8074-4f7e-adb6-b9f10a2589d7",
   "metadata": {},
   "outputs": [],
   "source": []
  }
 ],
 "metadata": {
  "kernelspec": {
   "display_name": "Python 3 (ipykernel)",
   "language": "python",
   "name": "python3"
  },
  "language_info": {
   "codemirror_mode": {
    "name": "ipython",
    "version": 3
   },
   "file_extension": ".py",
   "mimetype": "text/x-python",
   "name": "python",
   "nbconvert_exporter": "python",
   "pygments_lexer": "ipython3",
   "version": "3.12.4"
  }
 },
 "nbformat": 4,
 "nbformat_minor": 5
}
