{
 "cells": [
  {
   "cell_type": "code",
   "execution_count": 5,
   "id": "05d85b66-a40c-423b-8a3a-48f60a7b76f7",
   "metadata": {},
   "outputs": [
    {
     "name": "stdin",
     "output_type": "stream",
     "text": [
      "Masukkan kunci:  NGAWI\n",
      "Teks sandi:  ANRIRDZFDIFAGWXA \n"
     ]
    },
    {
     "name": "stdout",
     "output_type": "stream",
     "text": [
      "GI TA LA TI FA DI NA RX "
     ]
    }
   ],
   "source": [
    "#!/usr/bin/env python\n",
    "# coding: u\n",
    "# Inisialisasi variabel a dan b untuk digunakan dalam rekursi dalam mengisi karakter lainnya\n",
    "a = b = 0\n",
    "\n",
    "# Minta pengguna untuk memasukkan kunci untuk digunakan dalam pembuatan matriks 5x5\n",
    "kunci = input(\"Masukkan kunci: \")\n",
    "kunci = kunci.replace(\" \", \"\")  # Hapus spasi dari kunci\n",
    "kunci = kunci.upper()  # Konversi kunci menjadi huruf kapital\n",
    "\n",
    "# Minta pengguna untuk memasukkan teks sandi yang akan didekripsi\n",
    "teks_sandi = input(\"Teks sandi: \")\n",
    "teks_sandi = teks_sandi.replace(\" \", \"\")  # Hapus spasi dari teks sandi\n",
    "teks_sandi = teks_sandi.upper()  # Konversi teks sandi menjadi huruf kapital\n",
    "\n",
    "# Fungsi matriks untuk membuat daftar bersarang secara rekursif.\n",
    "def matriks(x, y, awal):\n",
    "    return [[awal for _ in range(x)] for _ in range(y)]\n",
    "\n",
    "# Fungsi indexlocator untuk mencari indeks suatu karakter dalam matriks sandi\n",
    "def indexlocator(x):\n",
    "    if x == 'J':\n",
    "        x = 'I'\n",
    "    for i, j in enumerate(matriks_sandi):\n",
    "        for k, l in enumerate(j):\n",
    "            if x == l:\n",
    "                return [i, k]\n",
    "\n",
    "# Membuat matriks sandi dengan menggunakan fungsi matriks\n",
    "matriks_sandi = matriks(5, 5, 0)\n",
    "key_ke_matriks = []\n",
    "\n",
    "for c in kunci:\n",
    "    if c not in key_ke_matriks:\n",
    "        if c == 'J':\n",
    "            key_ke_matriks.append('I')\n",
    "        else:\n",
    "            key_ke_matriks.append(c)\n",
    "\n",
    "for i in range(65, 91):\n",
    "    if chr(i) not in key_ke_matriks:\n",
    "        if i == 73 and chr(74) not in key_ke_matriks:\n",
    "            key_ke_matriks.append(\"I\")\n",
    "            a = 1\n",
    "        elif a == 0 and (i == 73 or i == 74):\n",
    "            pass\n",
    "        else:\n",
    "            key_ke_matriks.append(chr(i))\n",
    "\n",
    "# Mengisi matriks sandi dengan karakter dari daftar key_ke_matriks\n",
    "b = 0\n",
    "for i in range(5):\n",
    "    for j in range(5):\n",
    "        matriks_sandi[i][j] = key_ke_matriks[b]\n",
    "        b += 1 if b < len(key_ke_matriks) - 1 else 0\n",
    "\n",
    "# Fungsi dekripsi untuk mendekripsi teks sandi Playfair\n",
    "def dekripsi(teks):\n",
    "    i = 0\n",
    "    while i < len(teks):\n",
    "        lst = indexlocator(teks[i])\n",
    "        lon = indexlocator(teks[i + 1])\n",
    "        if lst[1] == lon[1]:\n",
    "            print(f\"{matriks_sandi[(lst[0] - 1) % 5][lst[1]]}{matriks_sandi[(lon[0] - 1) % 5][lon[1]]}\", end=' ')\n",
    "        elif lst[0] == lon[0]:\n",
    "            print(f\"{matriks_sandi[lst[0]][(lst[1] - 1) % 5]}{matriks_sandi[lon[0]][(lon[1] - 1) % 5]}\", end=' ')\n",
    "        else:\n",
    "            print(f\"{matriks_sandi[lst[0]][lon[1]]}{matriks_sandi[lon[0]][lst[1]]}\", end=' ')\n",
    "        i += 2\n",
    "\n",
    "# Panggil fungsi dekripsi dengan teks sandi yang diberikan\n",
    "dekripsi(teks_sandi)"
   ]
  },
  {
   "cell_type": "code",
   "execution_count": null,
   "id": "0fbaafff-620a-4c79-9bc6-599e23e31527",
   "metadata": {},
   "outputs": [],
   "source": []
  },
  {
   "cell_type": "code",
   "execution_count": null,
   "id": "0dc1ff68-8074-4f7e-adb6-b9f10a2589d7",
   "metadata": {},
   "outputs": [],
   "source": []
  }
 ],
 "metadata": {
  "kernelspec": {
   "display_name": "Python 3 (ipykernel)",
   "language": "python",
   "name": "python3"
  },
  "language_info": {
   "codemirror_mode": {
    "name": "ipython",
    "version": 3
   },
   "file_extension": ".py",
   "mimetype": "text/x-python",
   "name": "python",
   "nbconvert_exporter": "python",
   "pygments_lexer": "ipython3",
   "version": "3.12.4"
  }
 },
 "nbformat": 4,
 "nbformat_minor": 5
}
